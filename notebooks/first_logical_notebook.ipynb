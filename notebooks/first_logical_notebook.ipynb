{
 "cells": [
  {
   "cell_type": "code",
   "execution_count": 2,
   "metadata": {},
   "outputs": [],
   "source": [
    "import pandas as pd\n",
    "import plotly.graph_objects as go\n",
    "import seaborn as sns\n",
    "import matplotlib.pyplot as plt"
   ]
  },
  {
   "cell_type": "code",
   "execution_count": 6,
   "metadata": {},
   "outputs": [],
   "source": [
    "def clean_and_visualize(file_path):  # Accept the file path as an argument\n",
    "    df = pd.read_csv(\"data/dataset1/raw/car_prices.csv\")  # Load the CSV file\n",
    "\n",
    "    # Cleaning process\n",
    "    df_cleaned = df.dropna()  # Remove rows with missing values\n",
    "    df_filled = df.fillna(0)  # Fill missing values with 0\n",
    "    df_no_duplicates = df.drop_duplicates()  # Remove duplicates\n",
    "\n",
    "    # Strip whitespace from columns and string values\n",
    "    df.columns = df.columns.str.strip()\n",
    "    df = df.apply(lambda x: x.str.strip() if x.dtype == \"object\" else x)\n",
    "    \n",
    "    # Sample data visualization\n",
    "    data = df.head(10)\n",
    "    fig = go.Figure(data=[go.Table(\n",
    "        header=dict(values=list(data.columns), fill_color='paleturquoise', align='left'),\n",
    "        cells=dict(values=[data[col] for col in data.columns], fill_color='lavender', align='left')\n",
    "    )])\n",
    "    fig.show()\n",
    "\n",
    "    # Visualization of top vehicle counts\n",
    "    vehicle_counts = df.groupby(['make', 'model']).size().reset_index(name='counts')\n",
    "    vehicle_counts = vehicle_counts.sort_values(by='counts', ascending=False).head(10)\n",
    "\n",
    "    plt.figure(figsize=(10,6))\n",
    "    sns.barplot(x='counts', y='make', hue='model', data=vehicle_counts, palette='viridis')\n",
    "    plt.title('Top Vehicles Being Bought by Consumers')\n",
    "    plt.xlabel('Number of Vehicles Bought')\n",
    "    plt.ylabel('Vehicle Make')\n",
    "    plt.tight_layout()\n",
    "    plt.show()\n",
    "\n",
    "    return df  # Return the cleaned DataFrame"
   ]
  }
 ],
 "metadata": {
  "kernelspec": {
   "display_name": "Python 3",
   "language": "python",
   "name": "python3"
  },
  "language_info": {
   "codemirror_mode": {
    "name": "ipython",
    "version": 3
   },
   "file_extension": ".py",
   "mimetype": "text/x-python",
   "name": "python",
   "nbconvert_exporter": "python",
   "pygments_lexer": "ipython3",
   "version": "3.12.5"
  }
 },
 "nbformat": 4,
 "nbformat_minor": 2
}
